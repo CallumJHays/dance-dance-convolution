{
 "cells": [
  {
   "cell_type": "code",
   "execution_count": 1,
   "metadata": {},
   "outputs": [
    {
     "name": "stdout",
     "output_type": "stream",
     "text": [
      "pack_name  Tsunamix III  from pack_url  https://fra.xtil.net/simfiles/data/tsunamix/III/Tsunamix III [SM5].zip  already exists in pack_dir  /home/callumjhays/.stepmania-5.0/Songs . Skipping download...\n",
      "pack_name  Fraxtil's Arrow Arrangements  from pack_url  https://fra.xtil.net/simfiles/data/arrowarrangements/Fraxtil's Arrow Arrangements [SM5].zip  already exists in pack_dir  /home/callumjhays/.stepmania-5.0/Songs . Skipping download...\n",
      "pack_name  Fraxtil's Beast Beats  from pack_url  https://fra.xtil.net/simfiles/data/beastbeats/Fraxtil's Beast Beats [SM5].zip  already exists in pack_dir  /home/callumjhays/.stepmania-5.0/Songs . Skipping download...\n",
      "pack_name  In The Groove  from pack_url  http://stepmaniaonline.net/downloads/packs/In The Groove 1.zip  already exists in pack_dir  /home/callumjhays/.stepmania-5.0/Songs . Skipping download...\n",
      "pack_name  In The Groove 2  from pack_url  http://stepmaniaonline.net/downloads/packs/In The Groove 2.zip  already exists in pack_dir  /home/callumjhays/.stepmania-5.0/Songs . Skipping download...\n"
     ]
    },
    {
     "name": "stderr",
     "output_type": "stream",
     "text": [
      "WARNING:root:One or more (beat, BPM) pairs begin on the same beat, using last listed\n",
      "WARNING:root:One or more (beat, BPM) pairs begin on the same beat, using last listed\n",
      "WARNING:root:One or more (beat, BPM) pairs begin on the same beat, using last listed\n"
     ]
    }
   ],
   "source": [
    "from step_mania_dataset import StepManiaDataset\n",
    "\n",
    "dataset = StepManiaDataset()"
   ]
  },
  {
   "cell_type": "code",
   "execution_count": 2,
   "metadata": {},
   "outputs": [
    {
     "name": "stdout",
     "output_type": "stream",
     "text": [
      "[(0.0, 174.0)]\n"
     ]
    },
    {
     "ename": "NameError",
     "evalue": "name 'should_be_warp_skipped' is not defined",
     "output_type": "error",
     "traceback": [
      "\u001b[0;31m---------------------------------------------------------------------------\u001b[0m",
      "\u001b[0;31mNameError\u001b[0m                                 Traceback (most recent call last)",
      "\u001b[0;32m<ipython-input-2-ecdf22ea1c9b>\u001b[0m in \u001b[0;36m<module>\u001b[0;34m()\u001b[0m\n\u001b[0;32m----> 1\u001b[0;31m \u001b[0mfeatures\u001b[0m \u001b[0;34m=\u001b[0m \u001b[0mdataset\u001b[0m\u001b[0;34m[\u001b[0m\u001b[0;36m0\u001b[0m\u001b[0;34m]\u001b[0m\u001b[0;34m\u001b[0m\u001b[0m\n\u001b[0m",
      "\u001b[0;32m/home/callumjhays/coding/dance-dance-convolution/step_mania_dataset.py\u001b[0m in \u001b[0;36m__getitem__\u001b[0;34m(self, i)\u001b[0m\n\u001b[1;32m    118\u001b[0m \u001b[0;34m\u001b[0m\u001b[0m\n\u001b[1;32m    119\u001b[0m     \u001b[0;32mdef\u001b[0m \u001b[0m__getitem__\u001b[0m\u001b[0;34m(\u001b[0m\u001b[0mself\u001b[0m\u001b[0;34m,\u001b[0m \u001b[0mi\u001b[0m\u001b[0;34m)\u001b[0m\u001b[0;34m:\u001b[0m\u001b[0;34m\u001b[0m\u001b[0m\n\u001b[0;32m--> 120\u001b[0;31m         \u001b[0;32mreturn\u001b[0m \u001b[0mStepManiaChart\u001b[0m\u001b[0;34m(\u001b[0m\u001b[0mself\u001b[0m\u001b[0;34m.\u001b[0m\u001b[0mchart_list\u001b[0m\u001b[0;34m[\u001b[0m\u001b[0mself\u001b[0m\u001b[0;34m.\u001b[0m\u001b[0mindex\u001b[0m\u001b[0;34m[\u001b[0m\u001b[0mi\u001b[0m\u001b[0;34m]\u001b[0m\u001b[0;34m]\u001b[0m\u001b[0;34m)\u001b[0m\u001b[0;34m.\u001b[0m\u001b[0mto_ddc_io\u001b[0m\u001b[0;34m(\u001b[0m\u001b[0;34m)\u001b[0m\u001b[0;34m\u001b[0m\u001b[0m\n\u001b[0m\u001b[1;32m    121\u001b[0m \u001b[0;34m\u001b[0m\u001b[0m\n\u001b[1;32m    122\u001b[0m     \u001b[0;32mdef\u001b[0m \u001b[0mshuffle_index\u001b[0m\u001b[0;34m(\u001b[0m\u001b[0mself\u001b[0m\u001b[0;34m)\u001b[0m\u001b[0;34m:\u001b[0m\u001b[0;34m\u001b[0m\u001b[0m\n",
      "\u001b[0;32m/home/callumjhays/coding/dance-dance-convolution/step_mania_chart.py\u001b[0m in \u001b[0;36mto_ddc_io\u001b[0;34m(self)\u001b[0m\n\u001b[1;32m    298\u001b[0m                             \u001b[0mcurrent_bpm\u001b[0m \u001b[0;34m*\u001b[0m \u001b[0;36m4\u001b[0m \u001b[0;34m/\u001b[0m \u001b[0mlen\u001b[0m\u001b[0;34m(\u001b[0m\u001b[0mmeasure\u001b[0m\u001b[0;34m)\u001b[0m\u001b[0;34m\u001b[0m\u001b[0m\n\u001b[1;32m    299\u001b[0m \u001b[0;34m\u001b[0m\u001b[0m\n\u001b[0;32m--> 300\u001b[0;31m                         \u001b[0;32mif\u001b[0m \u001b[0mshould_be_warp_skipped\u001b[0m\u001b[0;34m(\u001b[0m\u001b[0mbeat_i\u001b[0m\u001b[0;34m)\u001b[0m\u001b[0;34m:\u001b[0m\u001b[0;34m\u001b[0m\u001b[0m\n\u001b[0m\u001b[1;32m    301\u001b[0m                             \u001b[0;32mbreak\u001b[0m\u001b[0;34m\u001b[0m\u001b[0m\n\u001b[1;32m    302\u001b[0m \u001b[0;34m\u001b[0m\u001b[0m\n",
      "\u001b[0;31mNameError\u001b[0m: name 'should_be_warp_skipped' is not defined"
     ]
    }
   ],
   "source": [
    "features = dataset[0]"
   ]
  },
  {
   "cell_type": "code",
   "execution_count": null,
   "metadata": {
    "collapsed": true
   },
   "outputs": [],
   "source": [
    "import matplotlib.pyplot as plt\n",
    "from ipywidgets import interact, IntRangeSlider\n",
    "\n",
    "def plot_features(features_idx, idx_range):\n",
    "    for feature in dataset[features_idx]:\n",
    "        plt.figure(figsize=(15, 5))\n",
    "        plt.imshow(feature[:, idx_range[0]:idx_range[1]], aspect='auto', interpolation=None)\n",
    "        plt.show()\n",
    "                           \n",
    "interact(plot_features,\n",
    "         features_idx = (0, len(dataset) - 1),\n",
    "         idx_range = IntRangeSlider(min=0, max=features.shape[2]))"
   ]
  }
 ],
 "metadata": {
  "kernelspec": {
   "display_name": "Python 3",
   "language": "python",
   "name": "python3"
  },
  "language_info": {
   "codemirror_mode": {
    "name": "ipython",
    "version": 3
   },
   "file_extension": ".py",
   "mimetype": "text/x-python",
   "name": "python",
   "nbconvert_exporter": "python",
   "pygments_lexer": "ipython3",
   "version": "3.6.0"
  }
 },
 "nbformat": 4,
 "nbformat_minor": 2
}
